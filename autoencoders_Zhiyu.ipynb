{
  "nbformat": 4,
  "nbformat_minor": 0,
  "metadata": {
    "accelerator": "GPU",
    "colab": {
      "name": "autoencoders (1).ipynb",
      "provenance": [],
      "collapsed_sections": []
    },
    "kernelspec": {
      "display_name": "Python 3",
      "language": "python",
      "name": "python3"
    },
    "language_info": {
      "codemirror_mode": {
        "name": "ipython",
        "version": 3
      },
      "file_extension": ".py",
      "mimetype": "text/x-python",
      "name": "python",
      "nbconvert_exporter": "python",
      "pygments_lexer": "ipython3",
      "version": "3.7.4"
    },
    "widgets": {
      "application/vnd.jupyter.widget-state+json": {
        "84d4ab78f2e441288d02762fa93ab0c4": {
          "model_module": "@jupyter-widgets/controls",
          "model_name": "HBoxModel",
          "state": {
            "_view_name": "HBoxView",
            "_dom_classes": [],
            "_model_name": "HBoxModel",
            "_view_module": "@jupyter-widgets/controls",
            "_model_module_version": "1.5.0",
            "_view_count": null,
            "_view_module_version": "1.5.0",
            "box_style": "",
            "layout": "IPY_MODEL_5a57d0ba5d7649f3af66a4286aabd3d6",
            "_model_module": "@jupyter-widgets/controls",
            "children": [
              "IPY_MODEL_a5ba7f95c42d4bf3b72e6e6cfdb0fd86",
              "IPY_MODEL_3dd4ff92eff2400ab40f32a56837ab43"
            ]
          }
        },
        "5a57d0ba5d7649f3af66a4286aabd3d6": {
          "model_module": "@jupyter-widgets/base",
          "model_name": "LayoutModel",
          "state": {
            "_view_name": "LayoutView",
            "grid_template_rows": null,
            "right": null,
            "justify_content": null,
            "_view_module": "@jupyter-widgets/base",
            "overflow": null,
            "_model_module_version": "1.2.0",
            "_view_count": null,
            "flex_flow": null,
            "width": null,
            "min_width": null,
            "border": null,
            "align_items": null,
            "bottom": null,
            "_model_module": "@jupyter-widgets/base",
            "top": null,
            "grid_column": null,
            "overflow_y": null,
            "overflow_x": null,
            "grid_auto_flow": null,
            "grid_area": null,
            "grid_template_columns": null,
            "flex": null,
            "_model_name": "LayoutModel",
            "justify_items": null,
            "grid_row": null,
            "max_height": null,
            "align_content": null,
            "visibility": null,
            "align_self": null,
            "height": null,
            "min_height": null,
            "padding": null,
            "grid_auto_rows": null,
            "grid_gap": null,
            "max_width": null,
            "order": null,
            "_view_module_version": "1.2.0",
            "grid_template_areas": null,
            "object_position": null,
            "object_fit": null,
            "grid_auto_columns": null,
            "margin": null,
            "display": null,
            "left": null
          }
        },
        "a5ba7f95c42d4bf3b72e6e6cfdb0fd86": {
          "model_module": "@jupyter-widgets/controls",
          "model_name": "FloatProgressModel",
          "state": {
            "_view_name": "ProgressView",
            "style": "IPY_MODEL_04d43fef61554b97b1e99340e83517ea",
            "_dom_classes": [],
            "description": "Dl Completed...: 100%",
            "_model_name": "FloatProgressModel",
            "bar_style": "success",
            "max": 4,
            "_view_module": "@jupyter-widgets/controls",
            "_model_module_version": "1.5.0",
            "value": 4,
            "_view_count": null,
            "_view_module_version": "1.5.0",
            "orientation": "horizontal",
            "min": 0,
            "description_tooltip": null,
            "_model_module": "@jupyter-widgets/controls",
            "layout": "IPY_MODEL_1613bb91824e40c988aa043d1fa341e0"
          }
        },
        "3dd4ff92eff2400ab40f32a56837ab43": {
          "model_module": "@jupyter-widgets/controls",
          "model_name": "HTMLModel",
          "state": {
            "_view_name": "HTMLView",
            "style": "IPY_MODEL_20ff9772ab2e4b10903c6792e2b327a8",
            "_dom_classes": [],
            "description": "",
            "_model_name": "HTMLModel",
            "placeholder": "​",
            "_view_module": "@jupyter-widgets/controls",
            "_model_module_version": "1.5.0",
            "value": " 4/4 [00:06&lt;00:00,  1.50s/ file]",
            "_view_count": null,
            "_view_module_version": "1.5.0",
            "description_tooltip": null,
            "_model_module": "@jupyter-widgets/controls",
            "layout": "IPY_MODEL_39c5377be0b44806b6780d4e5a74439e"
          }
        },
        "04d43fef61554b97b1e99340e83517ea": {
          "model_module": "@jupyter-widgets/controls",
          "model_name": "ProgressStyleModel",
          "state": {
            "_view_name": "StyleView",
            "_model_name": "ProgressStyleModel",
            "description_width": "initial",
            "_view_module": "@jupyter-widgets/base",
            "_model_module_version": "1.5.0",
            "_view_count": null,
            "_view_module_version": "1.2.0",
            "bar_color": null,
            "_model_module": "@jupyter-widgets/controls"
          }
        },
        "1613bb91824e40c988aa043d1fa341e0": {
          "model_module": "@jupyter-widgets/base",
          "model_name": "LayoutModel",
          "state": {
            "_view_name": "LayoutView",
            "grid_template_rows": null,
            "right": null,
            "justify_content": null,
            "_view_module": "@jupyter-widgets/base",
            "overflow": null,
            "_model_module_version": "1.2.0",
            "_view_count": null,
            "flex_flow": null,
            "width": null,
            "min_width": null,
            "border": null,
            "align_items": null,
            "bottom": null,
            "_model_module": "@jupyter-widgets/base",
            "top": null,
            "grid_column": null,
            "overflow_y": null,
            "overflow_x": null,
            "grid_auto_flow": null,
            "grid_area": null,
            "grid_template_columns": null,
            "flex": null,
            "_model_name": "LayoutModel",
            "justify_items": null,
            "grid_row": null,
            "max_height": null,
            "align_content": null,
            "visibility": null,
            "align_self": null,
            "height": null,
            "min_height": null,
            "padding": null,
            "grid_auto_rows": null,
            "grid_gap": null,
            "max_width": null,
            "order": null,
            "_view_module_version": "1.2.0",
            "grid_template_areas": null,
            "object_position": null,
            "object_fit": null,
            "grid_auto_columns": null,
            "margin": null,
            "display": null,
            "left": null
          }
        },
        "20ff9772ab2e4b10903c6792e2b327a8": {
          "model_module": "@jupyter-widgets/controls",
          "model_name": "DescriptionStyleModel",
          "state": {
            "_view_name": "StyleView",
            "_model_name": "DescriptionStyleModel",
            "description_width": "",
            "_view_module": "@jupyter-widgets/base",
            "_model_module_version": "1.5.0",
            "_view_count": null,
            "_view_module_version": "1.2.0",
            "_model_module": "@jupyter-widgets/controls"
          }
        },
        "39c5377be0b44806b6780d4e5a74439e": {
          "model_module": "@jupyter-widgets/base",
          "model_name": "LayoutModel",
          "state": {
            "_view_name": "LayoutView",
            "grid_template_rows": null,
            "right": null,
            "justify_content": null,
            "_view_module": "@jupyter-widgets/base",
            "overflow": null,
            "_model_module_version": "1.2.0",
            "_view_count": null,
            "flex_flow": null,
            "width": null,
            "min_width": null,
            "border": null,
            "align_items": null,
            "bottom": null,
            "_model_module": "@jupyter-widgets/base",
            "top": null,
            "grid_column": null,
            "overflow_y": null,
            "overflow_x": null,
            "grid_auto_flow": null,
            "grid_area": null,
            "grid_template_columns": null,
            "flex": null,
            "_model_name": "LayoutModel",
            "justify_items": null,
            "grid_row": null,
            "max_height": null,
            "align_content": null,
            "visibility": null,
            "align_self": null,
            "height": null,
            "min_height": null,
            "padding": null,
            "grid_auto_rows": null,
            "grid_gap": null,
            "max_width": null,
            "order": null,
            "_view_module_version": "1.2.0",
            "grid_template_areas": null,
            "object_position": null,
            "object_fit": null,
            "grid_auto_columns": null,
            "margin": null,
            "display": null,
            "left": null
          }
        }
      }
    }
  },
  "cells": [
    {
      "cell_type": "code",
      "metadata": {
        "id": "1YwA2EdX0VdH"
      },
      "source": [
        "import numpy as np\n",
        "import matplotlib.pyplot as plt\n",
        "import tensorflow as tf\n",
        "import tensorflow.keras as tfk\n",
        "import tensorflow_datasets as tfds\n",
        "\n",
        "tfkl = tfk.layers"
      ],
      "execution_count": null,
      "outputs": []
    },
    {
      "cell_type": "markdown",
      "metadata": {
        "id": "28GQwMhxEsYw"
      },
      "source": [
        "### MNIST data\n",
        "Here is some code to load the MNIST digit recognition dataet and associated metadata"
      ]
    },
    {
      "cell_type": "code",
      "metadata": {
        "id": "23CAr5Fl03MF",
        "outputId": "88f3feac-7d15-4be2-9b9d-5300d261f066",
        "colab": {
          "base_uri": "https://localhost:8080/",
          "height": 627,
          "referenced_widgets": [
            "84d4ab78f2e441288d02762fa93ab0c4",
            "5a57d0ba5d7649f3af66a4286aabd3d6",
            "a5ba7f95c42d4bf3b72e6e6cfdb0fd86",
            "3dd4ff92eff2400ab40f32a56837ab43",
            "04d43fef61554b97b1e99340e83517ea",
            "1613bb91824e40c988aa043d1fa341e0",
            "20ff9772ab2e4b10903c6792e2b327a8",
            "39c5377be0b44806b6780d4e5a74439e"
          ]
        }
      },
      "source": [
        "data, info = tfds.load('mnist', with_info=True)\n",
        "print(info)"
      ],
      "execution_count": null,
      "outputs": [
        {
          "output_type": "stream",
          "text": [
            "\u001b[1mDownloading and preparing dataset mnist/3.0.1 (download: 11.06 MiB, generated: 21.00 MiB, total: 32.06 MiB) to /root/tensorflow_datasets/mnist/3.0.1...\u001b[0m\n"
          ],
          "name": "stdout"
        },
        {
          "output_type": "stream",
          "text": [
            "WARNING:absl:Dataset mnist is hosted on GCS. It will automatically be downloaded to your\n",
            "local data directory. If you'd instead prefer to read directly from our public\n",
            "GCS bucket (recommended if you're running on GCP), you can instead pass\n",
            "`try_gcs=True` to `tfds.load` or set `data_dir=gs://tfds-data/datasets`.\n",
            "\n"
          ],
          "name": "stderr"
        },
        {
          "output_type": "display_data",
          "data": {
            "application/vnd.jupyter.widget-view+json": {
              "model_id": "84d4ab78f2e441288d02762fa93ab0c4",
              "version_minor": 0,
              "version_major": 2
            },
            "text/plain": [
              "HBox(children=(FloatProgress(value=0.0, description='Dl Completed...', max=4.0, style=ProgressStyle(descriptio…"
            ]
          },
          "metadata": {
            "tags": []
          }
        },
        {
          "output_type": "stream",
          "text": [
            "\n",
            "\n",
            "\u001b[1mDataset mnist downloaded and prepared to /root/tensorflow_datasets/mnist/3.0.1. Subsequent calls will reuse this data.\u001b[0m\n",
            "tfds.core.DatasetInfo(\n",
            "    name='mnist',\n",
            "    version=3.0.1,\n",
            "    description='The MNIST database of handwritten digits.',\n",
            "    homepage='http://yann.lecun.com/exdb/mnist/',\n",
            "    features=FeaturesDict({\n",
            "        'image': Image(shape=(28, 28, 1), dtype=tf.uint8),\n",
            "        'label': ClassLabel(shape=(), dtype=tf.int64, num_classes=10),\n",
            "    }),\n",
            "    total_num_examples=70000,\n",
            "    splits={\n",
            "        'test': 10000,\n",
            "        'train': 60000,\n",
            "    },\n",
            "    supervised_keys=('image', 'label'),\n",
            "    citation=\"\"\"@article{lecun2010mnist,\n",
            "      title={MNIST handwritten digit database},\n",
            "      author={LeCun, Yann and Cortes, Corinna and Burges, CJ},\n",
            "      journal={ATT Labs [Online]. Available: http://yann.lecun.com/exdb/mnist},\n",
            "      volume={2},\n",
            "      year={2010}\n",
            "    }\"\"\",\n",
            "    redistribution_info=,\n",
            ")\n",
            "\n"
          ],
          "name": "stdout"
        }
      ]
    },
    {
      "cell_type": "markdown",
      "metadata": {
        "id": "5bevJSLhE_Lc"
      },
      "source": [
        "### Preprocessing\n",
        "\n",
        "Let's start by writting a preprocessing function.\n",
        "\n",
        "TensorFlow Datasets packages the MNIST data such that each element is a `dict` with two keys:\n",
        "- `image`: an array containing the image with shape (28, 28, 1), values of type `uint8`, and values between 0 and 255\n",
        "- `label`: An integer between 0 - 9 indicating the digit in the image\n",
        "\n",
        "Write a `preprocess` function that takes in one such element and prepares it for training an autoencoder. Things to make sure your function does:\n",
        "1. Cast the image to a `float32`\n",
        "2. Scale the values of the images so they are between 0 - 1\n",
        "3. Return a tuple with the transformed image and the label\n",
        "\n",
        "Then write another function called `ae_targets` that transforms this $(x, y)$ pair into the tuple that represents the input and target that are appropriate for an autoencoder.\n",
        "\n",
        "Finally, transform the originally dataset with the following steps:\n",
        "1. Grab the training dataset\n",
        "2. apply (i.e. \"map\") the preprocessing function\n",
        "3. apply the function to generate appropriate autoencoder targets\n",
        "3. cache the results (so you only to these tranformations the first time through the dataset)\n",
        "4. split the dataset into batches of size `32`\n",
        "5. set up the resulting dataset to repeat\n",
        "6. set up the resulting dataset to prefetch `5` elements\n",
        "\n",
        "(there is a chain of functions on the `Dataset` to do each of these!)"
      ]
    },
    {
      "cell_type": "code",
      "metadata": {
        "id": "8aJJTNCR2VC1"
      },
      "source": [
        "# your code here\n",
        "def normalize_img(image, label):\n",
        "  \"\"\"Normalizes images: `uint8` -> `float32`.\"\"\"\n",
        "  return (tf.cast(image, tf.float32) / 255., label)\n",
        "ds_train = ds_train.map(\n",
        "    normalize_img, num_parallel_calls=tf.data.experimental.AUTOTUNE)\n",
        "ds_train = ds_train.cache()\n",
        "ds_train = ds_train.shuffle(ds_info.splits['train'].num_examples)\n",
        "ds_train = ds_train.batch(32)\n",
        "ds_train = ds_train.prefetch(5)\n",
        "\n"
      ],
      "execution_count": null,
      "outputs": []
    },
    {
      "cell_type": "code",
      "metadata": {
        "id": "QTa-mVjtTzcu"
      },
      "source": [
        "preprocess = lambda d: (tf.cast(d['image'], tf.float32)/255., d['label'])\n",
        "ae_targets = lambda x, y: (x, x)\n",
        "ds_train = data['train'].map(preprocess).map(lambda x,y: (x,x)).cache().batch(32).repeat().prefetch(5)"
      ],
      "execution_count": null,
      "outputs": []
    },
    {
      "cell_type": "markdown",
      "metadata": {
        "id": "IpQgVaNCHzMO"
      },
      "source": [
        "### TensorFlow function API + a simple autoencoder\n",
        "\n",
        "We will want to use the encoder and decoder from our autoencoder separately down the road. Here is some code to build a simple autoencoder with a single hidden layer using the TensorFlow 'functional API' to see show we can combine two submodels (in this case the encoder and the decoder) into on larger model."
      ]
    },
    {
      "cell_type": "code",
      "metadata": {
        "id": "xoCZ3o72JYZY",
        "outputId": "ec49acf9-55a7-48c4-89a1-ceff6db60e58",
        "colab": {
          "base_uri": "https://localhost:8080/",
          "height": 51
        }
      },
      "source": [
        "img_shape = info.features['image'].shape\n",
        "print(img_shape)\n",
        "print(np.prod(img_shape))"
      ],
      "execution_count": null,
      "outputs": [
        {
          "output_type": "stream",
          "text": [
            "(28, 28, 1)\n",
            "784\n"
          ],
          "name": "stdout"
        }
      ]
    },
    {
      "cell_type": "code",
      "metadata": {
        "id": "QSo1qWNXJTzH",
        "outputId": "ad0cd200-be13-4cc4-ee41-8db3ab6b9c90",
        "colab": {
          "base_uri": "https://localhost:8080/",
          "height": 1000
        }
      },
      "source": [
        "encoder = tfk.Sequential([\n",
        "  tfkl.InputLayer(img_shape),\n",
        "  tfkl.Flatten(),\n",
        "  tfkl.Dense(32, activation=tf.nn.relu)\n",
        "])\n",
        "encoder.summary()\n",
        "\n",
        "decoder = tfk.Sequential([\n",
        "  tfkl.InputLayer(32),\n",
        "  tfkl.Dense(np.prod(img_shape), activation=tf.nn.sigmoid),\n",
        "  tfkl.Reshape(img_shape)\n",
        "])\n",
        "decoder.summary()\n",
        "\n",
        "# the tf.keras function API starts with defining placeholder tensors that represent model inputs\n",
        "x = tfkl.Input(img_shape)\n",
        "\n",
        "# we can then pass this placeholder through our models to specify the computation to get a prediction\n",
        "h = encoder(x)\n",
        "xhat = decoder(h)\n",
        "\n",
        "# finally we use the tfk.Model class instantiate the model by specifying the inputs and outputs\n",
        "# (note: this can also be lists, which is how you make more complex models with multiple inputs and/or outputs)\n",
        "autoencoder = tfk.Model(inputs=x, outputs=xhat)\n",
        "autoencoder.summary()\n",
        "\n",
        "# training happens as usual\n",
        "autoencoder.compile(\n",
        "    optimizer=tfk.optimizers.Adam(),\n",
        "    loss=tfk.losses.BinaryCrossentropy(),\n",
        ")\n",
        "\n",
        "results = autoencoder.fit(ds_train, steps_per_epoch=400, epochs=20)"
      ],
      "execution_count": null,
      "outputs": [
        {
          "output_type": "stream",
          "text": [
            "Model: \"sequential\"\n",
            "_________________________________________________________________\n",
            "Layer (type)                 Output Shape              Param #   \n",
            "=================================================================\n",
            "flatten (Flatten)            (None, 784)               0         \n",
            "_________________________________________________________________\n",
            "dense (Dense)                (None, 32)                25120     \n",
            "=================================================================\n",
            "Total params: 25,120\n",
            "Trainable params: 25,120\n",
            "Non-trainable params: 0\n",
            "_________________________________________________________________\n",
            "Model: \"sequential_1\"\n",
            "_________________________________________________________________\n",
            "Layer (type)                 Output Shape              Param #   \n",
            "=================================================================\n",
            "dense_1 (Dense)              (None, 784)               25872     \n",
            "_________________________________________________________________\n",
            "reshape (Reshape)            (None, 28, 28, 1)         0         \n",
            "=================================================================\n",
            "Total params: 25,872\n",
            "Trainable params: 25,872\n",
            "Non-trainable params: 0\n",
            "_________________________________________________________________\n",
            "Model: \"functional_1\"\n",
            "_________________________________________________________________\n",
            "Layer (type)                 Output Shape              Param #   \n",
            "=================================================================\n",
            "input_3 (InputLayer)         [(None, 28, 28, 1)]       0         \n",
            "_________________________________________________________________\n",
            "sequential (Sequential)      (None, 32)                25120     \n",
            "_________________________________________________________________\n",
            "sequential_1 (Sequential)    (None, 28, 28, 1)         25872     \n",
            "=================================================================\n",
            "Total params: 50,992\n",
            "Trainable params: 50,992\n",
            "Non-trainable params: 0\n",
            "_________________________________________________________________\n",
            "Epoch 1/20\n",
            "400/400 [==============================] - 2s 5ms/step - loss: 0.2457\n",
            "Epoch 2/20\n",
            "400/400 [==============================] - 2s 5ms/step - loss: 0.1628\n",
            "Epoch 3/20\n",
            "400/400 [==============================] - 2s 5ms/step - loss: 0.1393\n",
            "Epoch 4/20\n",
            "400/400 [==============================] - 2s 5ms/step - loss: 0.1251\n",
            "Epoch 5/20\n",
            "400/400 [==============================] - 2s 4ms/step - loss: 0.1161\n",
            "Epoch 6/20\n",
            "400/400 [==============================] - 1s 2ms/step - loss: 0.1089\n",
            "Epoch 7/20\n",
            "400/400 [==============================] - 1s 2ms/step - loss: 0.1049\n",
            "Epoch 8/20\n",
            "400/400 [==============================] - 1s 2ms/step - loss: 0.1017\n",
            "Epoch 9/20\n",
            "400/400 [==============================] - 1s 2ms/step - loss: 0.0995\n",
            "Epoch 10/20\n",
            "400/400 [==============================] - 1s 2ms/step - loss: 0.0982\n",
            "Epoch 11/20\n",
            "400/400 [==============================] - 1s 2ms/step - loss: 0.0963\n",
            "Epoch 12/20\n",
            "400/400 [==============================] - 1s 2ms/step - loss: 0.0962\n",
            "Epoch 13/20\n",
            "400/400 [==============================] - 1s 2ms/step - loss: 0.0959\n",
            "Epoch 14/20\n",
            "400/400 [==============================] - 1s 2ms/step - loss: 0.0955\n",
            "Epoch 15/20\n",
            "400/400 [==============================] - 1s 2ms/step - loss: 0.0951\n",
            "Epoch 16/20\n",
            "400/400 [==============================] - 1s 2ms/step - loss: 0.0948\n",
            "Epoch 17/20\n",
            "400/400 [==============================] - 1s 2ms/step - loss: 0.0945\n",
            "Epoch 18/20\n",
            "400/400 [==============================] - 1s 2ms/step - loss: 0.0950\n",
            "Epoch 19/20\n",
            "400/400 [==============================] - 1s 2ms/step - loss: 0.0948\n",
            "Epoch 20/20\n",
            "400/400 [==============================] - 1s 2ms/step - loss: 0.0940\n"
          ],
          "name": "stdout"
        }
      ]
    },
    {
      "cell_type": "code",
      "metadata": {
        "id": "WdpBTykAVbcL",
        "outputId": "474e7c54-43b5-4681-e05c-3ebf855f7865",
        "colab": {
          "base_uri": "https://localhost:8080/",
          "height": 1000
        }
      },
      "source": [
        "imgs = next(iter(ds_train))[0]\n",
        "for i in range(10):\n",
        "  plt.subplot(1, 2, 1)\n",
        "  plt.imshow(imgs[i].numpy().squeeze(), cmap='bone')\n",
        "  plt.subplot(1, 2, 2, )\n",
        "  plt.imshow(autoencoder(imgs[i][tf.newaxis]).numpy().squeeze(), cmap='bone')\n",
        "  plt.show()"
      ],
      "execution_count": null,
      "outputs": [
        {
          "output_type": "display_data",
          "data": {
            "image/png": "[encoded data removed]",
            "text/plain": [
              "<Figure size 432x288 with 2 Axes>"
            ]
          },
          "metadata": {
            "tags": [],
            "needs_background": "light"
          }
        },
        {
          "output_type": "display_data",
          "data": {
            "image/png": "[encoded data removed]",
            "text/plain": [
              "<Figure size 432x288 with 2 Axes>"
            ]
          },
          "metadata": {
            "tags": [],
            "needs_background": "light"
          }
        },
        {
          "output_type": "display_data",
          "data": {
            "image/png": "[encoded data removed]",
            "text/plain": [
              "<Figure size 432x288 with 2 Axes>"
            ]
          },
          "metadata": {
            "tags": [],
            "needs_background": "light"
          }
        },
        {
          "output_type": "display_data",
          "data": {
            "image/png": "[encoded data removed]",
            "text/plain": [
              "<Figure size 432x288 with 2 Axes>"
            ]
          },
          "metadata": {
            "tags": [],
            "needs_background": "light"
          }
        },
        {
          "output_type": "display_data",
          "data": {
            "image/png": "[encoded data removed]",
            "text/plain": [
              "<Figure size 432x288 with 2 Axes>"
            ]
          },
          "metadata": {
            "tags": [],
            "needs_background": "light"
          }
        },
        {
          "output_type": "display_data",
          "data": {
            "image/png": "[encoded data removed]",
            "text/plain": [
              "<Figure size 432x288 with 2 Axes>"
            ]
          },
          "metadata": {
            "tags": [],
            "needs_background": "light"
          }
        },
        {
          "output_type": "display_data",
          "data": {
            "image/png": "[encoded data removed]",
            "text/plain": [
              "<Figure size 432x288 with 2 Axes>"
            ]
          },
          "metadata": {
            "tags": [],
            "needs_background": "light"
          }
        },
        {
          "output_type": "display_data",
          "data": {
            "image/png": "[encoded data removed]",
            "text/plain": [
              "<Figure size 432x288 with 2 Axes>"
            ]
          },
          "metadata": {
            "tags": [],
            "needs_background": "light"
          }
        },
        {
          "output_type": "display_data",
          "data": {
            "image/png": "[encoded data removed]",
            "text/plain": [
              "<Figure size 432x288 with 2 Axes>"
            ]
          },
          "metadata": {
            "tags": [],
            "needs_background": "light"
          }
        },
        {
          "output_type": "display_data",
          "data": {
            "image/png": "[encoded data removed]",
            "text/plain": [
              "<Figure size 432x288 with 2 Axes>"
            ]
          },
          "metadata": {
            "tags": [],
            "needs_background": "light"
          }
        }
      ]
    },
    {
      "cell_type": "markdown",
      "metadata": {
        "id": "JIGnE0CwVxXb"
      },
      "source": [
        "### Deep autoencoder and latent representations\n",
        "\n",
        "We want to reduce the dimensionality to the hidden layer so that we can plot the hidden representations to see how the autoencoder is organizing the data. If our hidden layers is going to be so much smaller, we will need to make up for it by making the network deeper.\n",
        "\n",
        "Modify the code above to make this work. Try a layers of size 156 -> 32 -> 2. After trining the model, use the encoder by itself and make a scatter plot of the some of the data, coloring each point by the digit identity. Which digits end up bunched together? Which are more well separated? Why might this be?"
      ]
    },
    {
      "cell_type": "code",
      "metadata": {
        "id": "nXM0gkI8cS4U",
        "outputId": "9339e7a7-5960-4bc6-ac7e-2e3f610aec0b",
        "colab": {
          "base_uri": "https://localhost:8080/",
          "height": 935
        }
      },
      "source": [
        "# your code here\n",
        "encoder = tfk.Sequential([\n",
        "  tfkl.InputLayer(img_shape),\n",
        "  tfkl.Flatten(),\n",
        "  tfkl.Dense(156, activation=tf.nn.relu),\n",
        "  tfkl.Dense(32, activation=tf.nn.relu),\n",
        "  tfkl.Dense(2, activation=None)\n",
        "])\n",
        "\n",
        "decoder = tfk.Sequential([\n",
        "  tfkl.InputLayer(2),\n",
        "  tfkl.Dense(32, activation=tf.nn.relu),\n",
        "  tfkl.Dense(156, activation=tf.nn.relu),\n",
        "  tfkl.Dense(np.prod(img_shape), activation=tf.nn.relu),\n",
        "  tfkl.Reshape(img_shape)\n",
        "])\n",
        "\n",
        "\n",
        "# the tf.keras function API starts with defining placeholder tensors that represent model inputs\n",
        "x = tfkl.Input(img_shape)\n",
        "\n",
        "# we can then pass this placeholder through our models to specify the computation to get a prediction\n",
        "h = encoder(x)\n",
        "xhat = decoder(h)\n",
        "\n",
        "# finally we use the tfk.Model class instantiate the model by specifying the inputs and outputs\n",
        "# (note: this can also be lists, which is how you make more complex models with multiple inputs and/or outputs)\n",
        "autoencoder = tfk.Model(inputs=x, outputs=xhat)\n",
        "autoencoder.summary()\n",
        "\n",
        "# training happens as usual\n",
        "autoencoder.compile(\n",
        "    optimizer=tfk.optimizers.Adam(),\n",
        "    loss=tfk.losses.BinaryCrossentropy(),\n",
        ")\n",
        "\n",
        "results = autoencoder.fit(ds_train, steps_per_epoch=400, epochs=20)"
      ],
      "execution_count": null,
      "outputs": [
        {
          "output_type": "stream",
          "text": [
            "Model: \"functional_5\"\n",
            "_________________________________________________________________\n",
            "Layer (type)                 Output Shape              Param #   \n",
            "=================================================================\n",
            "input_26 (InputLayer)        [(None, 28, 28, 1)]       0         \n",
            "_________________________________________________________________\n",
            "sequential_19 (Sequential)   (None, 2)                 127550    \n",
            "_________________________________________________________________\n",
            "sequential_20 (Sequential)   (None, 28, 28, 1)         128332    \n",
            "=================================================================\n",
            "Total params: 255,882\n",
            "Trainable params: 255,882\n",
            "Non-trainable params: 0\n",
            "_________________________________________________________________\n",
            "Epoch 1/20\n",
            "400/400 [==============================] - 1s 2ms/step - loss: 0.6375\n",
            "Epoch 2/20\n",
            "400/400 [==============================] - 1s 2ms/step - loss: 0.5998\n",
            "Epoch 3/20\n",
            "400/400 [==============================] - 1s 2ms/step - loss: 0.5795\n",
            "Epoch 4/20\n",
            "400/400 [==============================] - 1s 2ms/step - loss: 0.5313\n",
            "Epoch 5/20\n",
            "400/400 [==============================] - 1s 2ms/step - loss: 0.5235\n",
            "Epoch 6/20\n",
            "400/400 [==============================] - 1s 2ms/step - loss: 0.5153\n",
            "Epoch 7/20\n",
            "400/400 [==============================] - 1s 2ms/step - loss: 0.5110\n",
            "Epoch 8/20\n",
            "400/400 [==============================] - 1s 2ms/step - loss: 0.4981\n",
            "Epoch 9/20\n",
            "400/400 [==============================] - 1s 2ms/step - loss: 0.4864\n",
            "Epoch 10/20\n",
            "400/400 [==============================] - 1s 2ms/step - loss: 0.4718\n",
            "Epoch 11/20\n",
            "400/400 [==============================] - 1s 2ms/step - loss: 0.4534\n",
            "Epoch 12/20\n",
            "400/400 [==============================] - 1s 2ms/step - loss: 0.4409\n",
            "Epoch 13/20\n",
            "400/400 [==============================] - 1s 2ms/step - loss: 0.4415\n",
            "Epoch 14/20\n",
            "400/400 [==============================] - 1s 3ms/step - loss: 0.4386\n",
            "Epoch 15/20\n",
            "400/400 [==============================] - 1s 2ms/step - loss: 0.4419\n",
            "Epoch 16/20\n",
            "400/400 [==============================] - 1s 2ms/step - loss: 0.4407\n",
            "Epoch 17/20\n",
            "400/400 [==============================] - 1s 2ms/step - loss: 0.4428\n",
            "Epoch 18/20\n",
            "400/400 [==============================] - 1s 2ms/step - loss: 0.4372\n",
            "Epoch 19/20\n",
            "400/400 [==============================] - 1s 2ms/step - loss: 0.4372\n",
            "Epoch 20/20\n",
            "400/400 [==============================] - 1s 3ms/step - loss: 0.4394\n"
          ],
          "name": "stdout"
        }
      ]
    },
    {
      "cell_type": "code",
      "metadata": {
        "id": "YbG1-lOI7JzM",
        "outputId": "b5bfde38-15b8-47a3-c790-5657fd54b97c",
        "colab": {
          "base_uri": "https://localhost:8080/",
          "height": 1000
        }
      },
      "source": [
        "for i in range(10):\n",
        "  plt.subplot(1, 2, 1)\n",
        "  plt.imshow(imgs[i].numpy().squeeze(), cmap='bone')\n",
        "  plt.subplot(1, 2, 2, )\n",
        "  plt.imshow(autoencoder(imgs[i][tf.newaxis]).numpy().squeeze(), cmap='bone')\n",
        "  plt.show()"
      ],
      "execution_count": null,
      "outputs": [
        {
          "output_type": "display_data",
          "data": {
            "image/png": "[encoded data removed]",
            "text/plain": [
              "<Figure size 432x288 with 2 Axes>"
            ]
          },
          "metadata": {
            "tags": [],
            "needs_background": "light"
          }
        },
        {
          "output_type": "display_data",
          "data": {
            "image/png": "[encoded data removed]",
            "text/plain": [
              "<Figure size 432x288 with 2 Axes>"
            ]
          },
          "metadata": {
            "tags": [],
            "needs_background": "light"
          }
        },
        {
          "output_type": "display_data",
          "data": {
            "image/png": "[encoded data removed]",
            "text/plain": [
              "<Figure size 432x288 with 2 Axes>"
            ]
          },
          "metadata": {
            "tags": [],
            "needs_background": "light"
          }
        },
        {
          "output_type": "display_data",
          "data": {
            "image/png": "[encoded data removed]",
            "text/plain": [
              "<Figure size 432x288 with 2 Axes>"
            ]
          },
          "metadata": {
            "tags": [],
            "needs_background": "light"
          }
        },
        {
          "output_type": "display_data",
          "data": {
            "image/png": "[encoded data removed]",
            "text/plain": [
              "<Figure size 432x288 with 2 Axes>"
            ]
          },
          "metadata": {
            "tags": [],
            "needs_background": "light"
          }
        },
        {
          "output_type": "display_data",
          "data": {
            "image/png": "[encoded data removed]",
            "text/plain": [
              "<Figure size 432x288 with 2 Axes>"
            ]
          },
          "metadata": {
            "tags": [],
            "needs_background": "light"
          }
        },
        {
          "output_type": "display_data",
          "data": {
            "image/png": "[encoded data removed]",
            "text/plain": [
              "<Figure size 432x288 with 2 Axes>"
            ]
          },
          "metadata": {
            "tags": [],
            "needs_background": "light"
          }
        },
        {
          "output_type": "display_data",
          "data": {
            "image/png": "[encoded data removed]",
            "text/plain": [
              "<Figure size 432x288 with 2 Axes>"
            ]
          },
          "metadata": {
            "tags": [],
            "needs_background": "light"
          }
        },
        {
          "output_type": "display_data",
          "data": {
            "image/png": "[encoded data removed]",
            "text/plain": [
              "<Figure size 432x288 with 2 Axes>"
            ]
          },
          "metadata": {
            "tags": [],
            "needs_background": "light"
          }
        },
        {
          "output_type": "display_data",
          "data": {
            "image/png": "[encoded data removed]",
            "text/plain": [
              "<Figure size 432x288 with 2 Axes>"
            ]
          },
          "metadata": {
            "tags": [],
            "needs_background": "light"
          }
        }
      ]
    },
    {
      "cell_type": "code",
      "metadata": {
        "id": "B7S9Aqn893jc"
      },
      "source": [
        "# get 1000 data points for the scatter plot\n",
        "x, y = next(iter(data['test'].map(preprocess).batch(1000)))"
      ],
      "execution_count": null,
      "outputs": []
    },
    {
      "cell_type": "code",
      "metadata": {
        "id": "0TGMBWOW-0kG"
      },
      "source": [
        "# your code here -- run the data through the encoder and scatter plot the results\n",
        "h = encoder(x).numpy()"
      ],
      "execution_count": null,
      "outputs": []
    },
    {
      "cell_type": "code",
      "metadata": {
        "id": "Ul4QKYI9eI09",
        "outputId": "73d1860a-bffa-42b7-df24-3708f62e9f17",
        "colab": {
          "base_uri": "https://localhost:8080/",
          "height": 136
        }
      },
      "source": [
        "h"
      ],
      "execution_count": null,
      "outputs": [
        {
          "output_type": "execute_result",
          "data": {
            "text/plain": [
              "array([[-1.5753803 , -0.4725707 ],\n",
              "       [-0.12792626, -3.033803  ],\n",
              "       [ 0.13268659,  4.24038   ],\n",
              "       ...,\n",
              "       [-1.9498144 ,  0.13724095],\n",
              "       [ 2.2892945 ,  2.203791  ],\n",
              "       [ 3.137445  ,  0.65676963]], dtype=float32)"
            ]
          },
          "metadata": {
            "tags": []
          },
          "execution_count": 31
        }
      ]
    },
    {
      "cell_type": "code",
      "metadata": {
        "id": "mkeR2NF8eJII",
        "outputId": "303c40ca-0b78-4147-e18a-d8d9b90a5902",
        "colab": {
          "base_uri": "https://localhost:8080/",
          "height": 428
        }
      },
      "source": [
        "plt.figure(figsize=(7,7))\n",
        "for i in range(10):\n",
        "  inds = np.where(y == i)[0]\n",
        "  plt.scatter(h[inds,0], h[inds,1], s=10, label=str(i))\n",
        "plt.legend()\n",
        "plt.show()"
      ],
      "execution_count": null,
      "outputs": [
        {
          "output_type": "display_data",
          "data": {
            "image/png": "[encoded data removed]",
            "text/plain": [
              "<Figure size 504x504 with 1 Axes>"
            ]
          },
          "metadata": {
            "tags": [],
            "needs_background": "light"
          }
        }
      ]
    },
    {
      "cell_type": "code",
      "metadata": {
        "id": "o_MhZuODermK"
      },
      "source": [
        ""
      ],
      "execution_count": null,
      "outputs": []
    }
  ]
}