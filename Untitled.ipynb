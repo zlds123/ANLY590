{
 "cells": [
  {
   "cell_type": "code",
   "execution_count": null,
   "metadata": {},
   "outputs": [],
   "source": [
    "L = -"
   ]
  }
 ],
 "metadata": {
  "kernelspec": {
   "display_name": "anly590",
   "language": "python",
   "name": "anly590"
  }
 },
 "nbformat": 4,
 "nbformat_minor": 2
}
